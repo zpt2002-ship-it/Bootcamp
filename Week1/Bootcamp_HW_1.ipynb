{
  "nbformat": 4,
  "nbformat_minor": 0,
  "metadata": {
    "colab": {
      "provenance": []
    },
    "kernelspec": {
      "name": "python3",
      "display_name": "Python 3"
    },
    "language_info": {
      "name": "python"
    }
  },
  "cells": [
    {
      "cell_type": "code",
      "execution_count": null,
      "metadata": {
        "id": "W-pLIg_uMDbt"
      },
      "outputs": [],
      "source": [
        "import pandas as pd\n",
        "import numpy as np\n",
        "\n",
        "#1. Write a program that takes a word as an input and print the number of vowels in the word.\n",
        "\n",
        "word = input(\"Write a word\")\n",
        "\n",
        "vowel_count = 0\n",
        "vowels = \"aeiouAEIOU\"\n",
        "for char in word:\n",
        "  if char in vowels:\n",
        "    vowel_count += 1\n",
        "print(\"Number of vowels:\", vowel_count)"
      ]
    },
    {
      "cell_type": "code",
      "source": [
        "#2. Iterate through the following list of animals and print each one in all caps.\n",
        "\n",
        "animals=['tiger', 'elephant', 'monkey', 'zebra', 'panther']\n",
        "\n",
        "uppercase_words = [animal.upper() for animal in animals]\n",
        "print(uppercase_words)"
      ],
      "metadata": {
        "id": "UQZTN7rBTZbQ"
      },
      "execution_count": null,
      "outputs": []
    },
    {
      "cell_type": "code",
      "source": [
        "#3. Write a program that iterates from 1 to 20, printing each number and whether it's odd or even.\n",
        "\n",
        "for number in range(1,21):\n",
        "  if number % 2 == 0:\n",
        "    print(f\"{number} is even\")\n",
        "  else:\n",
        "    print(f\"{number} is odd\")"
      ],
      "metadata": {
        "id": "L8C8e7uFdZ6B"
      },
      "execution_count": null,
      "outputs": []
    },
    {
      "cell_type": "code",
      "source": [
        "#4. Write a program to check if a string is a palindrome or not.\n",
        "\n",
        "word = input(\"Enter a word\")\n",
        "\n",
        "if word == word[::-1]:\n",
        "  print(\"This is a palindrome\")\n",
        "else:\n",
        "  print(\"This is not a palidrome\")"
      ],
      "metadata": {
        "id": "VLbKGjCWfhOS"
      },
      "execution_count": null,
      "outputs": []
    },
    {
      "cell_type": "code",
      "source": [
        "#5. Write a function sum_of_integers(a, b) that takes two integers as input from the user and returns their sum.\n",
        "\n",
        "def sum_of_integers():\n",
        "  a = input(\"Enter an integer\")\n",
        "  b = input(\"Enter another integer\")\n",
        "\n",
        "  int_a = int(a)\n",
        "  int_b = int(b)\n",
        "\n",
        "  sum = int_a + int_b\n",
        "  return sum\n",
        "\n",
        "print(sum_of_integers())"
      ],
      "metadata": {
        "id": "mJj4Fhf7g_wC"
      },
      "execution_count": 11,
      "outputs": []
    }
  ]
}